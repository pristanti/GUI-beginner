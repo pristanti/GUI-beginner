{
 "cells": [
  {
   "cell_type": "code",
   "execution_count": 1,
   "metadata": {},
   "outputs": [],
   "source": [
    "#Import library\n",
    "import tkinter as tk"
   ]
  },
  {
   "cell_type": "code",
   "execution_count": 2,
   "metadata": {},
   "outputs": [],
   "source": [
    "#definisikan window utama\n",
    "utama = tk.Tk()"
   ]
  },
  {
   "cell_type": "code",
   "execution_count": 4,
   "metadata": {},
   "outputs": [],
   "source": [
    "#definisikan sebuah label\n",
    "labelku = tk.Label(utama, text = 'halo!')   #mendefinisikan dulu Labelnya\n",
    "labelku.pack()   #label dipasang"
   ]
  },
  {
   "cell_type": "code",
   "execution_count": 5,
   "metadata": {},
   "outputs": [],
   "source": [
    "#tkinter event loop\n",
    "utama.mainloop()"
   ]
  },
  {
   "cell_type": "markdown",
   "metadata": {},
   "source": [
    "# mendalami 'Label'"
   ]
  },
  {
   "cell_type": "code",
   "execution_count": 6,
   "metadata": {},
   "outputs": [],
   "source": [
    "# definisikan window utama\n",
    "window = tk.Tk()    #tk adalah nama GUI nya"
   ]
  },
  {
   "cell_type": "code",
   "execution_count": 7,
   "metadata": {},
   "outputs": [],
   "source": [
    "# label pertama (teks)\n",
    "tk.Label(window, \n",
    " text=\"Tulisan ini hijau\",\n",
    " fg = \"light green\",  #font color\n",
    " bg = \"dark green\",   #background color\n",
    " font = \"Helvetica 16 bold italic\").pack()"
   ]
  },
  {
   "cell_type": "code",
   "execution_count": 11,
   "metadata": {},
   "outputs": [],
   "source": [
    "# Label kedua (teks)\n",
    "tk.Label(window, \n",
    " text =\"Tulisan ini merah\",\n",
    " fg = \"red\",       #font color\n",
    " bg = \"yellow\",    #background\n",
    " font = \"Times 8\").pack()"
   ]
  },
  {
   "cell_type": "code",
   "execution_count": 14,
   "metadata": {},
   "outputs": [],
   "source": [
    "# label ketiga (file gambar GIF)\n",
    "logo = tk.PhotoImage(file=\"coba.gif\")\n",
    "label_logo = tk.Label(window, image=logo).pack()\n",
    "\n",
    "# Tkinter event loop\n",
    "utama.mainloop()"
   ]
  },
  {
   "cell_type": "markdown",
   "metadata": {},
   "source": [
    "# Button & Entry"
   ]
  },
  {
   "cell_type": "code",
   "execution_count": 4,
   "metadata": {},
   "outputs": [],
   "source": [
    "# function konversi inchi ke cm\n",
    "def konversi_inchi_ke_cm(): \n",
    "    hasil = \"Panjang dalam cm: \" + str(float(entry_panjang.get()) * 2.54)\n",
    "    label_hasil.configure(text = hasil) #merubah label hasil setelah tombol/button hasil ditekan\n",
    "\n",
    "utama = tk.Tk()  #untuk membuat window utama\n",
    "\n",
    "# Label untuk input\n",
    "label_keterangan = tk.Label(utama, \n",
    "    text=\"Panjang (dalam inchi)\",\n",
    "    font = '20')\n",
    "label_keterangan.pack()\n",
    "\n",
    "# Entry input\n",
    "entry_panjang = tk.Entry(utama, bd =5)  #customize\n",
    "entry_panjang.pack()            #membuat kotak isian(entry)"
   ]
  },
  {
   "cell_type": "code",
   "execution_count": 5,
   "metadata": {},
   "outputs": [],
   "source": [
    "# Label hasil\n",
    "label_hasil = tk.Label(utama, \n",
    "    text='konversikan angkamu!',\n",
    "    font = '20')\n",
    "label_hasil.pack()\n",
    "\n",
    "# Button memanggil function konversi\n",
    "tombolhitung = tk.Button(utama,\n",
    "    text=\"Hitung!\",\n",
    "    command=konversi_inchi_ke_cm)  #memanggil function diatas\n",
    "tombolhitung.pack()\n",
    "\n",
    "# Button untuk quit\n",
    "tombolkeluar = tk.Button(utama, \n",
    "                   text=\"Keluar\", \n",
    "                   fg=\"red\",\n",
    "                   command=utama.destroy)\n",
    "tombolkeluar.pack()\n",
    "\n",
    "# Tkinter event loop\n",
    "utama.mainloop()"
   ]
  },
  {
   "cell_type": "markdown",
   "metadata": {},
   "source": [
    "# Penempatan Widget dengan Grid"
   ]
  },
  {
   "cell_type": "code",
   "execution_count": 7,
   "metadata": {},
   "outputs": [],
   "source": [
    "# definisi function konversi inchi ke cm\n",
    "def konversi_inchi_ke_cm():\n",
    "    global hasil \n",
    "    # baca apa yang diketikkan di entry\n",
    "    masukan = entry_panjang.get()\n",
    "    # konversi ke cm, tipe data harus float\n",
    "    angka = float(masukan)*2.54\n",
    "    # susun teks yang ingin dipajang\n",
    "    hasil = \"Panjang (cm): \" + str(angka)\n",
    "    # update isi label\n",
    "    label_hasil.configure(text = hasil)\n",
    "\n",
    "\n",
    "# menyusun widget utama dan judulnya\n",
    "utama = tk.Tk()\n",
    "utama.title(\"Konversi\")\n",
    "\n",
    "# Label untuk input\n",
    "label_keterangan = tk.Label(utama, \n",
    "                            text=\"Panjang (dalam inchi)\",\n",
    "                            fg = \"light green\",  #font color\n",
    "                            bg = \"dark green\",   #background color\n",
    "                            font = \"Helvetica 16 bold italic\")\n",
    "label_keterangan.grid(row=0, column=0, sticky=tk.W)  #sticky itu allignment\n",
    "\n",
    "#entry input\n",
    "entry_panjang = tk.Entry(utama, bd =8)\n",
    "entry_panjang.grid(row=0, column = 1)\n",
    "\n",
    "# Label hasil\n",
    "label_hasil = tk.Label(utama, \n",
    "text='Panjang dalam cm: ')\n",
    "label_hasil.grid(row=1, column=0, sticky=tk.W)\n",
    "\n",
    "# Button memanggil function konversi\n",
    "tombolhitung = tk.Button(utama,\n",
    "                   text=\"Hitung!\",\n",
    "                   command=konversi_inchi_ke_cm)\n",
    "tombolhitung.grid(row = 2, column = 0)\n",
    "\n",
    "# Button untuk quit\n",
    "tombolkeluar = tk.Button(utama, \n",
    "                   text=\"Keluar\", \n",
    "                   fg=\"red\",\n",
    "                   command=utama.destroy)\n",
    "tombolkeluar.grid(row = 2, column = 1)\n",
    "\n",
    "# Tkinter event loop\n",
    "utama.mainloop()"
   ]
  },
  {
   "cell_type": "markdown",
   "metadata": {},
   "source": [
    "# Dialog Box"
   ]
  },
  {
   "cell_type": "code",
   "execution_count": 10,
   "metadata": {},
   "outputs": [
    {
     "name": "stdout",
     "output_type": "stream",
     "text": [
      "False\n",
      "\n"
     ]
    }
   ],
   "source": [
    "# Program 5: Dialogue box\n",
    "from tkinter import *   #jadi tidak perlu bikin tk.Tk()\n",
    "from tkinter import filedialog\n",
    "from tkinter import messagebox\n",
    "\n",
    "root = Tk()    #utama\n",
    "\n",
    "messagebox.showinfo(\"Informasi\",\"Ini ada informasi\")    #format (judul,info)\n",
    "messagebox.showerror(\"Error\", \"Ini ada error\")\n",
    "messagebox.showwarning(\"Warning\",\"Ini ada peringatan\")\n",
    "\n",
    "jawaban1 = messagebox.askokcancel(\"Pertanyaan\",\"Apakah Anda yakin ingin keluar?\")\n",
    "jawaban2 = messagebox.askretrycancel(\"Pertanyaan\", \"Apakah Anda ingin coba lagi?\")\n",
    "jawaban3 = messagebox.askyesno(\"Pertanyaan\",\"Apakah data yang Anda isikan betul?\")\n",
    "jawaban4 = messagebox.askyesnocancel(\"Pertanyaan\", \"Coba lagi?\")\n",
    "print(jawaban4)\n",
    "\n",
    "root.filename =  filedialog.askopenfilename(initialdir = \"/\",\n",
    "                                            title = \"Pilih file\",\n",
    "                                            filetypes = ((\"File teks\",\"*.txt\"), (\"semua jenis file\",\"*.*\")))\n",
    "print(root.filename)"
   ]
  },
  {
   "cell_type": "code",
   "execution_count": 9,
   "metadata": {},
   "outputs": [
    {
     "ename": "SyntaxError",
     "evalue": "invalid syntax (<ipython-input-9-6c8747ddf32c>, line 4)",
     "output_type": "error",
     "traceback": [
      "\u001b[1;36m  File \u001b[1;32m\"<ipython-input-9-6c8747ddf32c>\"\u001b[1;36m, line \u001b[1;32m4\u001b[0m\n\u001b[1;33m    Elif (jawaban3) :\u001b[0m\n\u001b[1;37m                     ^\u001b[0m\n\u001b[1;31mSyntaxError\u001b[0m\u001b[1;31m:\u001b[0m invalid syntax\n"
     ]
    }
   ],
   "source": [
    "if (jawaban3) :\n",
    "    messagebox.showinfo(\"Informasi\",\"Jawaban Anda YES!\")\n",
    "    print (\"jawaban Anda YES!\")\n",
    "Elif (jawaban3) :\n",
    "    messagebox.showinfo(\"Informasi\",\"Jawaban Anda NO!\")\n",
    "    print (\"jawaban Anda NO!\")"
   ]
  },
  {
   "cell_type": "code",
   "execution_count": 1,
   "metadata": {},
   "outputs": [],
   "source": [
    "# Program 5: Dialogue box\n",
    "from tkinter import *   #jadi tidak perlu bikin tk.Tk()\n",
    "from tkinter import filedialog\n",
    "from tkinter import messagebox"
   ]
  },
  {
   "cell_type": "code",
   "execution_count": 2,
   "metadata": {},
   "outputs": [
    {
     "data": {
      "text/plain": [
       "'ok'"
      ]
     },
     "execution_count": 2,
     "metadata": {},
     "output_type": "execute_result"
    }
   ],
   "source": [
    "messagebox.showinfo(\"Informasi\",\"Ini ada informasi\")    #format (judul,info)"
   ]
  }
 ],
 "metadata": {
  "kernelspec": {
   "display_name": "Python 3",
   "language": "python",
   "name": "python3"
  },
  "language_info": {
   "codemirror_mode": {
    "name": "ipython",
    "version": 3
   },
   "file_extension": ".py",
   "mimetype": "text/x-python",
   "name": "python",
   "nbconvert_exporter": "python",
   "pygments_lexer": "ipython3",
   "version": "3.7.0"
  }
 },
 "nbformat": 4,
 "nbformat_minor": 2
}
