{
 "cells": [
  {
   "cell_type": "code",
   "execution_count": 74,
   "metadata": {},
   "outputs": [],
   "source": [
    "import tkinter as tk\n",
    "import pandas as pd"
   ]
  },
  {
   "cell_type": "code",
   "execution_count": 19,
   "metadata": {},
   "outputs": [],
   "source": [
    "data = pd.read_csv('https://raw.githubusercontent.com/plotly/datasets/master/2010_alcohol_consumption_by_country.csv')\n",
    "data = data.to_string()"
   ]
  },
  {
   "cell_type": "code",
   "execution_count": 22,
   "metadata": {},
   "outputs": [],
   "source": [
    "#data offline\n",
    "data = pd.read_csv(\"2010_alcohol_consumption_by_country.csv\")"
   ]
  },
  {
   "cell_type": "markdown",
   "metadata": {},
   "source": [
    "# Widget : Text"
   ]
  },
  {
   "cell_type": "code",
   "execution_count": 20,
   "metadata": {},
   "outputs": [],
   "source": [
    "utama = tk.Tk()"
   ]
  },
  {
   "cell_type": "code",
   "execution_count": 16,
   "metadata": {},
   "outputs": [],
   "source": [
    "kotak_teks = tk.Text(utama)\n",
    "kotak_teks.insert(tk.INSERT, data)\n",
    "kotak_teks.pack()\n",
    "\n",
    "utama.mainloop()"
   ]
  },
  {
   "cell_type": "code",
   "execution_count": 20,
   "metadata": {},
   "outputs": [],
   "source": [
    "utama = tk.Tk()"
   ]
  },
  {
   "cell_type": "code",
   "execution_count": 21,
   "metadata": {},
   "outputs": [],
   "source": [
    "#membuat scrollbar\n",
    "scrollbar = tk.Scrollbar(utama)\n",
    "scrollbar.pack(side=tk.RIGHT, fill=tk.Y)\n",
    "\n",
    "kotak_teks = tk.Text(utama, wrap=tk.WORD, yscrollcommand=scrollbar.set)\n",
    "scrollbar.config(command=kotak_teks.yview)\n",
    "\n",
    "kotak_teks.insert(tk.INSERT, data)\n",
    "kotak_teks.pack()\n",
    "\n",
    "utama.mainloop()"
   ]
  },
  {
   "cell_type": "markdown",
   "metadata": {},
   "source": [
    "# Widget : Canvas"
   ]
  },
  {
   "cell_type": "code",
   "execution_count": 24,
   "metadata": {},
   "outputs": [],
   "source": [
    "utama = tk.Tk()\n",
    "\n",
    "w = tk.Canvas(utama, width = 400, height = 300)\n",
    "w.pack()"
   ]
  },
  {
   "cell_type": "code",
   "execution_count": 25,
   "metadata": {},
   "outputs": [
    {
     "data": {
      "text/plain": [
       "3"
      ]
     },
     "execution_count": 25,
     "metadata": {},
     "output_type": "execute_result"
    }
   ],
   "source": [
    "#customisasi\n",
    "w.create_line(0,0, 300,250, fill=\"green\")\n",
    "w.create_arc(20,20, 280,280, start = 0, extent =340, fill=\"yellow\")\n",
    "w.create_polygon(10,290, 10, 200, 200,290, fill=\"blue\")"
   ]
  },
  {
   "cell_type": "code",
   "execution_count": 26,
   "metadata": {},
   "outputs": [],
   "source": [
    "utama.mainloop()"
   ]
  },
  {
   "cell_type": "markdown",
   "metadata": {},
   "source": [
    "# Menambahkan Button & Image"
   ]
  },
  {
   "cell_type": "code",
   "execution_count": 75,
   "metadata": {},
   "outputs": [
    {
     "ename": "TclError",
     "evalue": "image \"pyimage17\" doesn't exist",
     "output_type": "error",
     "traceback": [
      "\u001b[1;31m---------------------------------------------------------------------------\u001b[0m",
      "\u001b[1;31mTclError\u001b[0m                                  Traceback (most recent call last)",
      "\u001b[1;32m<ipython-input-75-1c2c077ad416>\u001b[0m in \u001b[0;36m<module>\u001b[1;34m()\u001b[0m\n\u001b[0;32m      6\u001b[0m \u001b[1;31m# Siapkan file logo.png sendiri\u001b[0m\u001b[1;33m\u001b[0m\u001b[1;33m\u001b[0m\u001b[0m\n\u001b[0;32m      7\u001b[0m \u001b[0mcitra\u001b[0m \u001b[1;33m=\u001b[0m \u001b[0mtk\u001b[0m\u001b[1;33m.\u001b[0m\u001b[0mPhotoImage\u001b[0m\u001b[1;33m(\u001b[0m\u001b[0mfile\u001b[0m \u001b[1;33m=\u001b[0m \u001b[1;34m\"images.png\"\u001b[0m\u001b[1;33m)\u001b[0m\u001b[1;33m\u001b[0m\u001b[0m\n\u001b[1;32m----> 8\u001b[1;33m \u001b[0mw\u001b[0m\u001b[1;33m.\u001b[0m\u001b[0mcreate_image\u001b[0m\u001b[1;33m(\u001b[0m\u001b[1;36m100\u001b[0m\u001b[1;33m,\u001b[0m\u001b[1;36m100\u001b[0m\u001b[1;33m,\u001b[0m \u001b[0manchor\u001b[0m\u001b[1;33m=\u001b[0m\u001b[0mtk\u001b[0m\u001b[1;33m.\u001b[0m\u001b[0mNW\u001b[0m\u001b[1;33m,\u001b[0m \u001b[0mimage\u001b[0m \u001b[1;33m=\u001b[0m \u001b[0mcitra\u001b[0m\u001b[1;33m)\u001b[0m\u001b[1;33m\u001b[0m\u001b[0m\n\u001b[0m\u001b[0;32m      9\u001b[0m \u001b[1;33m\u001b[0m\u001b[0m\n\u001b[0;32m     10\u001b[0m \u001b[1;31m# membuat tombol\u001b[0m\u001b[1;33m\u001b[0m\u001b[1;33m\u001b[0m\u001b[0m\n",
      "\u001b[1;32m~\\Anaconda3\\lib\\tkinter\\__init__.py\u001b[0m in \u001b[0;36mcreate_image\u001b[1;34m(self, *args, **kw)\u001b[0m\n\u001b[0;32m   2484\u001b[0m     \u001b[1;32mdef\u001b[0m \u001b[0mcreate_image\u001b[0m\u001b[1;33m(\u001b[0m\u001b[0mself\u001b[0m\u001b[1;33m,\u001b[0m \u001b[1;33m*\u001b[0m\u001b[0margs\u001b[0m\u001b[1;33m,\u001b[0m \u001b[1;33m**\u001b[0m\u001b[0mkw\u001b[0m\u001b[1;33m)\u001b[0m\u001b[1;33m:\u001b[0m\u001b[1;33m\u001b[0m\u001b[0m\n\u001b[0;32m   2485\u001b[0m         \u001b[1;34m\"\"\"Create image item with coordinates x1,y1.\"\"\"\u001b[0m\u001b[1;33m\u001b[0m\u001b[0m\n\u001b[1;32m-> 2486\u001b[1;33m         \u001b[1;32mreturn\u001b[0m \u001b[0mself\u001b[0m\u001b[1;33m.\u001b[0m\u001b[0m_create\u001b[0m\u001b[1;33m(\u001b[0m\u001b[1;34m'image'\u001b[0m\u001b[1;33m,\u001b[0m \u001b[0margs\u001b[0m\u001b[1;33m,\u001b[0m \u001b[0mkw\u001b[0m\u001b[1;33m)\u001b[0m\u001b[1;33m\u001b[0m\u001b[0m\n\u001b[0m\u001b[0;32m   2487\u001b[0m     \u001b[1;32mdef\u001b[0m \u001b[0mcreate_line\u001b[0m\u001b[1;33m(\u001b[0m\u001b[0mself\u001b[0m\u001b[1;33m,\u001b[0m \u001b[1;33m*\u001b[0m\u001b[0margs\u001b[0m\u001b[1;33m,\u001b[0m \u001b[1;33m**\u001b[0m\u001b[0mkw\u001b[0m\u001b[1;33m)\u001b[0m\u001b[1;33m:\u001b[0m\u001b[1;33m\u001b[0m\u001b[0m\n\u001b[0;32m   2488\u001b[0m         \u001b[1;34m\"\"\"Create line with coordinates x1,y1,...,xn,yn.\"\"\"\u001b[0m\u001b[1;33m\u001b[0m\u001b[0m\n",
      "\u001b[1;32m~\\Anaconda3\\lib\\tkinter\\__init__.py\u001b[0m in \u001b[0;36m_create\u001b[1;34m(self, itemType, args, kw)\u001b[0m\n\u001b[0;32m   2475\u001b[0m         return self.tk.getint(self.tk.call(\n\u001b[0;32m   2476\u001b[0m             \u001b[0mself\u001b[0m\u001b[1;33m.\u001b[0m\u001b[0m_w\u001b[0m\u001b[1;33m,\u001b[0m \u001b[1;34m'create'\u001b[0m\u001b[1;33m,\u001b[0m \u001b[0mitemType\u001b[0m\u001b[1;33m,\u001b[0m\u001b[1;33m\u001b[0m\u001b[0m\n\u001b[1;32m-> 2477\u001b[1;33m             *(args + self._options(cnf, kw))))\n\u001b[0m\u001b[0;32m   2478\u001b[0m     \u001b[1;32mdef\u001b[0m \u001b[0mcreate_arc\u001b[0m\u001b[1;33m(\u001b[0m\u001b[0mself\u001b[0m\u001b[1;33m,\u001b[0m \u001b[1;33m*\u001b[0m\u001b[0margs\u001b[0m\u001b[1;33m,\u001b[0m \u001b[1;33m**\u001b[0m\u001b[0mkw\u001b[0m\u001b[1;33m)\u001b[0m\u001b[1;33m:\u001b[0m\u001b[1;33m\u001b[0m\u001b[0m\n\u001b[0;32m   2479\u001b[0m         \u001b[1;34m\"\"\"Create arc shaped region with coordinates x1,y1,x2,y2.\"\"\"\u001b[0m\u001b[1;33m\u001b[0m\u001b[0m\n",
      "\u001b[1;31mTclError\u001b[0m: image \"pyimage17\" doesn't exist"
     ]
    }
   ],
   "source": [
    "utama = tk.Tk()\n",
    "\n",
    "w = tk.Canvas(utama, width = 400, height = 300)\n",
    "w.pack()\n",
    "\n",
    "# Siapkan file logo.png sendiri\n",
    "citra = tk.PhotoImage(file = \"images.png\")\n",
    "w.create_image(100,100, anchor=tk.NW, image = citra)\n",
    "\n",
    "# membuat tombol\n",
    "button = tk.Button(w, text=\"KELUAR\", command=utama.destroy)\n",
    "w.create_window(320,250, anchor=tk.NW, window=button)\n",
    "\n",
    "utama.mainloop()"
   ]
  },
  {
   "cell_type": "markdown",
   "metadata": {},
   "source": [
    "# Menerima Input Posisi Mouse"
   ]
  },
  {
   "cell_type": "code",
   "execution_count": 78,
   "metadata": {},
   "outputs": [],
   "source": [
    "def mouse_diklik(event):\n",
    "    x = event.x\n",
    "    y = event.y\n",
    "    w.create_oval(x-10,y-10,x+10,y+10,fill=\"maroon\")\n",
    "\n",
    "utama = tk.Tk()\n",
    "\n",
    "w = tk.Canvas(utama, width = 400, height = 300)\n",
    "w.pack()\n",
    "w.bind(\"<Button-1>\", mouse_diklik)\n",
    "\n",
    "w.create_text(200,150, text=\"klik di mana aja boleh.\")\n",
    "\n",
    "utama.mainloop()"
   ]
  },
  {
   "cell_type": "code",
   "execution_count": 83,
   "metadata": {},
   "outputs": [],
   "source": [
    "def mouse_diklik(event):\n",
    "    x = event.x\n",
    "    y = event.y\n",
    "    xybaru = (x-10,y-10,x+10,y+10)\n",
    "    w.coords(bulatan,xybaru)\n",
    "\n",
    "utama = tk.Tk()\n",
    "\n",
    "w = tk.Canvas(utama, width = 400, height = 300)\n",
    "w.pack()\n",
    "w.bind(\"<B1-Motion>\", mouse_diklik)\n",
    "\n",
    "bulatan=w.create_rectangle(190,140, 210,160, fill=\"turquoise\")\n",
    "w.create_text(200,150, text=\"Silakan klik di mana saja.\")\n",
    "\n",
    "utama.mainloop()"
   ]
  },
  {
   "cell_type": "markdown",
   "metadata": {},
   "source": [
    "# Menampilkan plot dari Matplotlib"
   ]
  },
  {
   "cell_type": "code",
   "execution_count": 2,
   "metadata": {},
   "outputs": [
    {
     "name": "stdout",
     "output_type": "stream",
     "text": [
      "update\n"
     ]
    }
   ],
   "source": [
    "import matplotlib as mpl\n",
    "import numpy as np\n",
    "import tkinter as tk\n",
    "from matplotlib.backends.backend_tkagg import FigureCanvasTkAgg\n",
    "\n",
    "def update_plot():\n",
    "    frek = float(input_frek.get())\n",
    "    y = 1 + np.sin(frek * 2 * np.pi * t)    \n",
    "    ax.cla()    # hapus yang lama\n",
    "    ax.plot(t, y, 'r-')\n",
    "    ax.grid()\n",
    "    canvas.draw()\n",
    "    print(\"update\")\n",
    "\n",
    "# Data for plotting\n",
    "frek = 1\n",
    "t = np.arange(0.0, 2.0, 0.01)\n",
    "y = 1 + np.sin(frek * 2 * np.pi * t)    #sinus\n",
    "\n",
    "fig = mpl.figure.Figure(figsize = (6,5))\n",
    "ax = fig.add_axes([0.1,0.1,0.85,0.85])\n",
    "ax.plot(t, y, 'r-')\n",
    "ax.grid()\n",
    "\n",
    "utama = tk.Tk()\n",
    "w = tk.Canvas(utama, width=600, height=500)\n",
    "w.pack()\n",
    "\n",
    "canvas = FigureCanvasTkAgg(fig, master=w)\n",
    "canvas.draw()\n",
    "canvas.get_tk_widget().pack(side=tk.TOP, fill=tk.BOTH, expand=1)\n",
    "\n",
    "# Buat tombol update frekuensi sinus\n",
    "tombol = tk.Button(utama, text=\"Update frekuensi\", command=update_plot)\n",
    "tombol.pack()\n",
    "\n",
    "# Buat entry frekuensi sinus\n",
    "input_frek = tk.Entry(utama, bd=5)\n",
    "input_frek.insert(tk.END, '1')\n",
    "input_frek.pack()\n",
    "\n",
    "#buat tombol exit\n",
    "exit = tk.Button(utama, text='keluar', command=utama.destroy)\n",
    "exit.pack()\n",
    "\n",
    "utama.mainloop()"
   ]
  }
 ],
 "metadata": {
  "kernelspec": {
   "display_name": "Python 3",
   "language": "python",
   "name": "python3"
  },
  "language_info": {
   "codemirror_mode": {
    "name": "ipython",
    "version": 3
   },
   "file_extension": ".py",
   "mimetype": "text/x-python",
   "name": "python",
   "nbconvert_exporter": "python",
   "pygments_lexer": "ipython3",
   "version": "3.7.0"
  }
 },
 "nbformat": 4,
 "nbformat_minor": 2
}
