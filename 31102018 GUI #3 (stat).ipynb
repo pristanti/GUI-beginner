{
 "cells": [
  {
   "cell_type": "markdown",
   "metadata": {},
   "source": [
    "# DASHBOARD DENGAN PYTHON"
   ]
  },
  {
   "cell_type": "markdown",
   "metadata": {},
   "source": [
    "Radio Button"
   ]
  },
  {
   "cell_type": "code",
   "execution_count": 14,
   "metadata": {},
   "outputs": [],
   "source": [
    "import matplotlib as mpl\n",
    "import numpy as np\n",
    "import tkinter as tk\n",
    "from matplotlib.backends.backend_tkagg import FigureCanvasTkAgg\n",
    "import pandas as pd"
   ]
  },
  {
   "cell_type": "code",
   "execution_count": 22,
   "metadata": {},
   "outputs": [],
   "source": [
    "def update_grafik():\n",
    "    ax.cla()\n",
    "    if (grafik.get() == 'semua'):\n",
    "        data.plot(kind=\"bar\",x=\"Kota Harga Eceran\", y=[\"2011\",\"2012\",\"2013\"], ax=ax)\n",
    "    elif (grafik.get() == '2011'):\n",
    "        data.plot(kind=\"bar\",x=\"Kota Harga Eceran\", y=[\"2011\"], ax=ax)\n",
    "    elif (grafik.get() == '2012'):\n",
    "        data.plot(kind=\"bar\",x=\"Kota Harga Eceran\", y=[\"2012\"], ax=ax)\n",
    "    elif (grafik.get() == '2013'):\n",
    "        data.plot(kind=\"bar\",x=\"Kota Harga Eceran\", y=[\"2013\"], ax=ax)\n",
    "    canvas.draw()\n",
    "    print(grafik.get())"
   ]
  },
  {
   "cell_type": "code",
   "execution_count": 23,
   "metadata": {},
   "outputs": [
    {
     "name": "stdout",
     "output_type": "stream",
     "text": [
      "2011\n",
      "2012\n",
      "2013\n"
     ]
    }
   ],
   "source": [
    "data = pd.read_csv(\"https://raw.githubusercontent.com/nurirfansyah/digitalent_ITS_bigdata/master/hargaberas.csv\", sep=';')\n",
    "header = pd.read_csv(\"https://raw.githubusercontent.com/nurirfansyah/digitalent_ITS_bigdata/master/hargaberas.csv\", \n",
    "                     sep=';', header=None,nrows=1)\n",
    "\n",
    "fig = mpl.figure.Figure(figsize = (6,5))\n",
    "ax = fig.add_axes([0.1,0.1,0.85,0.85])\n",
    "\n",
    "data.plot(kind=\"bar\",x=\"Kota Harga Eceran\", y=[\"2011\",\"2012\",\"2013\"], ax=ax)\n",
    "\n",
    "utama = tk.Tk()\n",
    "w = tk.Canvas(utama, width=600, height=600)\n",
    "w.pack()\n",
    "\n",
    "canvas = FigureCanvasTkAgg(fig, master=w)\n",
    "canvas.draw()\n",
    "canvas.get_tk_widget().pack(side = tk.LEFT, fill=tk.X)\n",
    "\n",
    "grafik = tk.StringVar()\n",
    "grafik.set(\"semua\")\n",
    "\n",
    "radio_semua = tk.Radiobutton(utama, text=\"semua\", variable = grafik, value = 'semua', command=update_grafik).pack()\n",
    "radio_2011  = tk.Radiobutton(utama, text=\"2011\", variable = grafik, value = '2011', command=update_grafik).pack()\n",
    "radio_2012  = tk.Radiobutton(utama, text=\"2012\", variable = grafik, value = '2012', command=update_grafik).pack()\n",
    "radio_2013  = tk.Radiobutton(utama, text=\"2013\", variable = grafik, value = '2013', command=update_grafik).pack()\n",
    "\n",
    "utama.mainloop()\n"
   ]
  },
  {
   "cell_type": "markdown",
   "metadata": {},
   "source": [
    "# PLOTLY"
   ]
  },
  {
   "cell_type": "code",
   "execution_count": 30,
   "metadata": {},
   "outputs": [
    {
     "ename": "AttributeError",
     "evalue": "module 'plotly' has no attribute 'plotly'",
     "output_type": "error",
     "traceback": [
      "\u001b[1;31m---------------------------------------------------------------------------\u001b[0m",
      "\u001b[1;31mAttributeError\u001b[0m                            Traceback (most recent call last)",
      "\u001b[1;32m<ipython-input-30-55d120fe6d35>\u001b[0m in \u001b[0;36m<module>\u001b[1;34m()\u001b[0m\n\u001b[0;32m     19\u001b[0m                  'title': 'Subjects'},\n\u001b[0;32m     20\u001b[0m                'yaxis': {\n\u001b[1;32m---> 21\u001b[1;33m                 'title': 'Marks '}\n\u001b[0m\u001b[0;32m     22\u001b[0m         }})\n",
      "\u001b[1;32m~\\Anaconda3\\lib\\site-packages\\plotly\\offline\\offline.py\u001b[0m in \u001b[0;36mplot\u001b[1;34m(figure_or_data, show_link, link_text, validate, output_type, include_plotlyjs, filename, auto_open, image, image_filename, image_width, image_height, config)\u001b[0m\n\u001b[0;32m    474\u001b[0m     plot_html, plotdivid, width, height = _plot_html(\n\u001b[0;32m    475\u001b[0m         \u001b[0mfigure_or_data\u001b[0m\u001b[1;33m,\u001b[0m \u001b[0mconfig\u001b[0m\u001b[1;33m,\u001b[0m \u001b[0mvalidate\u001b[0m\u001b[1;33m,\u001b[0m\u001b[1;33m\u001b[0m\u001b[0m\n\u001b[1;32m--> 476\u001b[1;33m         '100%', '100%', global_requirejs=False)\n\u001b[0m\u001b[0;32m    477\u001b[0m \u001b[1;33m\u001b[0m\u001b[0m\n\u001b[0;32m    478\u001b[0m     \u001b[0mresize_script\u001b[0m \u001b[1;33m=\u001b[0m \u001b[1;34m''\u001b[0m\u001b[1;33m\u001b[0m\u001b[0m\n",
      "\u001b[1;32m~\\Anaconda3\\lib\\site-packages\\plotly\\offline\\offline.py\u001b[0m in \u001b[0;36m_plot_html\u001b[1;34m(figure_or_data, config, validate, default_width, default_height, global_requirejs)\u001b[0m\n\u001b[0;32m    221\u001b[0m     \u001b[1;31m# TODO: The get_config 'source of truth' should\u001b[0m\u001b[1;33m\u001b[0m\u001b[1;33m\u001b[0m\u001b[0m\n\u001b[0;32m    222\u001b[0m     \u001b[1;31m# really be somewhere other than plotly.plotly\u001b[0m\u001b[1;33m\u001b[0m\u001b[1;33m\u001b[0m\u001b[0m\n\u001b[1;32m--> 223\u001b[1;33m     plotly_platform_url = plotly.plotly.get_config().get('plotly_domain',\n\u001b[0m\u001b[0;32m    224\u001b[0m                                                          'https://plot.ly')\n\u001b[0;32m    225\u001b[0m     if (plotly_platform_url != 'https://plot.ly' and\n",
      "\u001b[1;31mAttributeError\u001b[0m: module 'plotly' has no attribute 'plotly'"
     ]
    }
   ],
   "source": [
    "from plotly import __version__\n",
    "from plotly.offline import download_plotlyjs, init_notebook_mode, plot, iplot\n",
    "import pandas as pd\n",
    "import numpy as np\n",
    "import plotly.graph_objs as go\n",
    "\n",
    "subjects = ['Mathematics', 'English', 'History', 'Science', 'Arts']\n",
    "marks = [67, 60, 36, 61, 58]\n",
    "marks_dataset = zip(subjects, marks)\n",
    "\n",
    "marks_df = pd.DataFrame(list(marks_dataset), columns=['Subjects', 'Marks'])\n",
    "\n",
    "marks_data = [go.Bar(x=marks_df.Subjects, y=marks_df.Marks)]\n",
    "\n",
    "plot({'data': marks_data,\n",
    "            'layout': {\n",
    "               'title': 'Marks Distribution',\n",
    "               'xaxis': {\n",
    "                 'title': 'Subjects'},\n",
    "               'yaxis': {\n",
    "                'title': 'Marks '}\n",
    "        }})"
   ]
  },
  {
   "cell_type": "code",
   "execution_count": 31,
   "metadata": {},
   "outputs": [
    {
     "ename": "SyntaxError",
     "evalue": "invalid syntax (<ipython-input-31-6cd7d69bc915>, line 16)",
     "output_type": "error",
     "traceback": [
      "\u001b[1;36m  File \u001b[1;32m\"<ipython-input-31-6cd7d69bc915>\"\u001b[1;36m, line \u001b[1;32m16\u001b[0m\n\u001b[1;33m    'layout': {from plotly import __version__\u001b[0m\n\u001b[1;37m                  ^\u001b[0m\n\u001b[1;31mSyntaxError\u001b[0m\u001b[1;31m:\u001b[0m invalid syntax\n"
     ]
    }
   ],
   "source": [
    "from plotly import __version__\n",
    "from plotly.offline import download_plotlyjs, init_notebook_mode, plot, iplot\n",
    "import pandas as pd\n",
    "import numpy as np\n",
    "import plotly.graph_objs as go\n",
    "\n",
    "data = pd.read_csv(\"https://raw.githubusercontent.com/nurirfansyah/digitalent_ITS_bigdata/master/hargaberas.csv\", sep=';')\n",
    "data_df = pd.DataFrame(data, columns=['kota','Th_2011','Th_2012','Th_2013','Th_2014','Th_2015','Th_2016'])\n",
    "\n",
    "data_plot = [go.Bar(x=data[\"Kota Harga Eceran\"], y=data[\"2011\"]), \n",
    "go.Bar(x=data[\"Kota Harga Eceran\"], y=data[\"2012\"]),\n",
    "go.Bar(x=data[\"Kota Harga Eceran\"], y=data[\"2013\"])\n",
    "]\n",
    "\n",
    "plot({ 'data': data_plot,\n",
    "            'layout': {from plotly import __version__\n",
    "from plotly.offline import download_plotlyjs, init_notebook_mode, plot, iplot\n",
    "import pandas as pd\n",
    "import numpy as np\n",
    "import plotly.graph_objs as go\n",
    "\n",
    "data = pd.read_csv(\"https://raw.githubusercontent.com/nurirfansyah/digitalent_ITS_bigdata/master/hargaberas.csv\", sep=';')\n",
    "data_df = pd.DataFrame(data, columns=['kota','Th_2011','Th_2012','Th_2013','Th_2014','Th_2015','Th_2016'])\n",
    "\n",
    "data_plot = [go.Bar(x=data[\"Kota Harga Eceran\"], y=data[\"2011\"]), \n",
    "go.Bar(x=data[\"Kota Harga Eceran\"], y=data[\"2012\"]),\n",
    "go.Bar(x=data[\"Kota Harga Eceran\"], y=data[\"2013\"])\n",
    "]\n",
    "\n",
    "plot({ 'data': data_plot,\n",
    "            'layout': {\n",
    "               'title': 'Harga beras',\n",
    "               'xaxis': {\n",
    "                 'title': 'Kota'},\n",
    "               'yaxis': {\n",
    "                'title': 'Rp / kg '}\n",
    "        }})\n",
    "\n",
    "               'title': 'Harga beras',\n",
    "               'xaxis': {\n",
    "                 'title': 'Kota'},\n",
    "               'yaxis': {\n",
    "                'title': 'Rp / kg '}\n",
    "        }})\n"
   ]
  },
  {
   "cell_type": "code",
   "execution_count": null,
   "metadata": {},
   "outputs": [],
   "source": []
  }
 ],
 "metadata": {
  "kernelspec": {
   "display_name": "Python 3",
   "language": "python",
   "name": "python3"
  },
  "language_info": {
   "codemirror_mode": {
    "name": "ipython",
    "version": 3
   },
   "file_extension": ".py",
   "mimetype": "text/x-python",
   "name": "python",
   "nbconvert_exporter": "python",
   "pygments_lexer": "ipython3",
   "version": "3.7.0"
  }
 },
 "nbformat": 4,
 "nbformat_minor": 2
}
